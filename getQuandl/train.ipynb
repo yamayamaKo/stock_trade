{
 "cells": [
  {
   "cell_type": "code",
   "execution_count": null,
   "metadata": {},
   "outputs": [],
   "source": [
    "import quandl\n",
    "import datetime\n",
    "import yfinance as yf\n",
    "\n",
    "start_date = \"1980-01-01\"\n",
    "end_date = datetime.date.today()\n",
    "\n",
    "api_key = 'a1rqWAeiZZ5xw_mcviUw'\n",
    "quandl.ApiConfig.api_key = api_key\n",
    "\n",
    "print(start_date, end_date)\n",
    "\n",
    "def quandlGet(code):\n",
    "    df = quandl.get(code, start_date=start_date, end_date=end_date)\n",
    "    return df"
   ]
  },
  {
   "cell_type": "code",
   "execution_count": null,
   "metadata": {},
   "outputs": [
    {
     "name": "stderr",
     "output_type": "stream",
     "text": [
      "Exception in thread Thread-17:\n",
      "Traceback (most recent call last):\n",
      "  File \"C:\\Users\\remuo402\\anaconda3\\envs\\stockTrade\\lib\\threading.py\", line 932, in _bootstrap_inner\n",
      "    self.run()\n",
      "  File \"C:\\Users\\remuo402\\anaconda3\\envs\\stockTrade\\lib\\threading.py\", line 870, in run\n",
      "    self._target(*self._args, **self._kwargs)\n",
      "  File \"C:\\Users\\remuo402\\anaconda3\\envs\\stockTrade\\lib\\site-packages\\multitasking\\__init__.py\", line 102, in _run_via_pool\n",
      "    return callee(*args, **kwargs)\n",
      "  File \"C:\\Users\\remuo402\\anaconda3\\envs\\stockTrade\\lib\\site-packages\\yfinance\\multi.py\", line 166, in _download_one_threaded\n",
      "    data = _download_one(ticker, start, end, auto_adjust, back_adjust,\n",
      "  File \"C:\\Users\\remuo402\\anaconda3\\envs\\stockTrade\\lib\\site-packages\\yfinance\\multi.py\", line 178, in _download_one\n",
      "    return Ticker(ticker).history(period=period, interval=interval,\n",
      "  File \"C:\\Users\\remuo402\\anaconda3\\envs\\stockTrade\\lib\\site-packages\\yfinance\\base.py\", line 121, in history\n",
      "    start = int(_time.mktime(\n",
      "OverflowError: mktime argument out of range\n"
     ]
    }
   ],
   "source": [
    "# S&P500の株価 Daily\n",
    "SP500 = yf.download('^GSPC', start_date, end_date, interval='1d') \n",
    "print(SP500)\n",
    "\n",
    "# Effective Federal Funds Rate, Daily, 7-Day\n",
    "DFF = quandlGet('FRED/DFF')\n",
    "print(DFF)\n",
    "\n",
    "# これが新規失業保険申請件数 Weekly\n",
    "ISCS = quandl.get(\"FRED/ICSA\")\n",
    "print(ISCA)\n",
    "\n",
    "# 月ごとのSP500の平均PER Monthly\n",
    "SP500PE_MONTH = quandl.get(\"MULTPL/SP500_PE_RATIO_MONTH\")\n",
    "print(SP500PE_MONTH)"
   ]
  },
  {
   "cell_type": "code",
   "execution_count": null,
   "metadata": {},
   "outputs": [],
   "source": [
    "print(DFF.index)"
   ]
  },
  {
   "cell_type": "code",
   "execution_count": null,
   "metadata": {},
   "outputs": [],
   "source": []
  }
 ],
 "metadata": {
  "kernelspec": {
   "display_name": "Python 3",
   "language": "python",
   "name": "python3"
  },
  "language_info": {
   "codemirror_mode": {
    "name": "ipython",
    "version": 3
   },
   "file_extension": ".py",
   "mimetype": "text/x-python",
   "name": "python",
   "nbconvert_exporter": "python",
   "pygments_lexer": "ipython3",
   "version": "3.8.5"
  }
 },
 "nbformat": 4,
 "nbformat_minor": 4
}
