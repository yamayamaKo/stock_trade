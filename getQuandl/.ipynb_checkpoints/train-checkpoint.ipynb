{
 "cells": [
  {
   "cell_type": "code",
   "execution_count": 16,
   "metadata": {},
   "outputs": [
    {
     "name": "stdout",
     "output_type": "stream",
     "text": [
      "1950-01-01 2021-02-18\n"
     ]
    }
   ],
   "source": [
    "import quandl\n",
    "import datetime\n",
    "import yfinance as yf\n",
    "\n",
    "start_date = \"1980-01-01\"\n",
    "end_date = datetime.date.today()\n",
    "\n",
    "api_key = 'a1rqWAeiZZ5xw_mcviUw'\n",
    "quandl.ApiConfig.api_key = api_key\n",
    "\n",
    "print(start_date, end_date)\n",
    "\n",
    "def quandlGet(code):\n",
    "    df = quandl.get(code, start_date=start_date, end_date=end_date)\n",
    "    return df"
   ]
  },
  {
   "cell_type": "code",
   "execution_count": 18,
   "metadata": {},
   "outputs": [
    {
     "name": "stdout",
     "output_type": "stream",
     "text": [
      "            Value\n",
      "Date             \n",
      "1954-07-01   1.13\n",
      "1954-07-02   1.25\n",
      "1954-07-03   1.25\n",
      "1954-07-04   1.25\n",
      "1954-07-05   0.88\n",
      "...           ...\n",
      "2021-02-12   0.08\n",
      "2021-02-13   0.08\n",
      "2021-02-14   0.08\n",
      "2021-02-15   0.08\n",
      "2021-02-16   0.08\n",
      "\n",
      "[24338 rows x 1 columns]\n"
     ]
    }
   ],
   "source": [
    "# S&P500の株価 Daily\n",
    "SP500 = yf.download('^GSPC', start_date, end_date, interval='1d') \n",
    "print(SP500)\n",
    "\n",
    "# Effective Federal Funds Rate, Daily, 7-Day\n",
    "DFF = quandlGet('FRED/DFF')\n",
    "print(DFF)\n",
    "\n",
    "# これが新規失業保険申請件数 Weekly\n",
    "ISCS = quandl.get(\"FRED/ICSA\")\n",
    "print(ISCA)\n",
    "\n",
    "# 月ごとのSP500の平均PER Monthly\n",
    "SP500PE_MONTH = quandl.get(\"MULTPL/SP500_PE_RATIO_MONTH\")\n",
    "print(SP500PE_MONTH)"
   ]
  },
  {
   "cell_type": "code",
   "execution_count": 24,
   "metadata": {},
   "outputs": [
    {
     "name": "stdout",
     "output_type": "stream",
     "text": [
      "[*********************100%***********************]  1 of 1 completed\n",
      "                   Open         High          Low        Close    Adj Close  \\\n",
      "Date                                                                          \n",
      "1979-12-31     0.000000   108.529999   107.260002   107.940002   107.940002   \n",
      "1980-01-02     0.000000   108.430000   105.290001   105.760002   105.760002   \n",
      "1980-01-03     0.000000   106.080002   103.260002   105.220001   105.220001   \n",
      "1980-01-04     0.000000   107.080002   105.089996   106.519997   106.519997   \n",
      "1980-01-07     0.000000   107.800003   105.800003   106.809998   106.809998   \n",
      "...                 ...          ...          ...          ...          ...   \n",
      "2021-02-10  3920.780029  3931.500000  3884.939941  3909.879883  3909.879883   \n",
      "2021-02-11  3916.399902  3925.989990  3890.389893  3916.379883  3916.379883   \n",
      "2021-02-12  3911.649902  3937.229980  3905.780029  3934.830078  3934.830078   \n",
      "2021-02-16  3939.610107  3950.429932  3923.850098  3932.590088  3932.590088   \n",
      "2021-02-17  3918.500000  3933.610107  3900.429932  3931.330078  3931.330078   \n",
      "\n",
      "                Volume  \n",
      "Date                    \n",
      "1979-12-31    31530000  \n",
      "1980-01-02    40610000  \n",
      "1980-01-03    50480000  \n",
      "1980-01-04    39130000  \n",
      "1980-01-07    44500000  \n",
      "...                ...  \n",
      "2021-02-10  4815380000  \n",
      "2021-02-11  4570080000  \n",
      "2021-02-12  4119260000  \n",
      "2021-02-16  5037360000  \n",
      "2021-02-17  4718280000  \n",
      "\n",
      "[10372 rows x 6 columns]\n"
     ]
    }
   ],
   "source": []
  },
  {
   "cell_type": "code",
   "execution_count": null,
   "metadata": {},
   "outputs": [
    {
     "name": "stderr",
     "output_type": "stream",
     "text": [
      "Exception in thread Thread-15:\n",
      "Traceback (most recent call last):\n",
      "  File \"C:\\Users\\remuo402\\anaconda3\\envs\\stockTrade\\lib\\threading.py\", line 932, in _bootstrap_inner\n",
      "    self.run()\n",
      "  File \"C:\\Users\\remuo402\\anaconda3\\envs\\stockTrade\\lib\\threading.py\", line 870, in run\n",
      "    self._target(*self._args, **self._kwargs)\n",
      "  File \"C:\\Users\\remuo402\\anaconda3\\envs\\stockTrade\\lib\\site-packages\\multitasking\\__init__.py\", line 102, in _run_via_pool\n",
      "    return callee(*args, **kwargs)\n",
      "  File \"C:\\Users\\remuo402\\anaconda3\\envs\\stockTrade\\lib\\site-packages\\yfinance\\multi.py\", line 166, in _download_one_threaded\n",
      "    data = _download_one(ticker, start, end, auto_adjust, back_adjust,\n",
      "  File \"C:\\Users\\remuo402\\anaconda3\\envs\\stockTrade\\lib\\site-packages\\yfinance\\multi.py\", line 178, in _download_one\n",
      "    return Ticker(ticker).history(period=period, interval=interval,\n",
      "  File \"C:\\Users\\remuo402\\anaconda3\\envs\\stockTrade\\lib\\site-packages\\yfinance\\base.py\", line 121, in history\n",
      "    start = int(_time.mktime(\n",
      "OverflowError: mktime argument out of range\n"
     ]
    }
   ],
   "source": []
  }
 ],
 "metadata": {
  "kernelspec": {
   "display_name": "Python 3",
   "language": "python",
   "name": "python3"
  },
  "language_info": {
   "codemirror_mode": {
    "name": "ipython",
    "version": 3
   },
   "file_extension": ".py",
   "mimetype": "text/x-python",
   "name": "python",
   "nbconvert_exporter": "python",
   "pygments_lexer": "ipython3",
   "version": "3.8.5"
  }
 },
 "nbformat": 4,
 "nbformat_minor": 4
}
