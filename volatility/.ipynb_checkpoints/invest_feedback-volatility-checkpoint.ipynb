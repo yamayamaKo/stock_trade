{
 "cells": [
  {
   "cell_type": "code",
   "execution_count": 1,
   "metadata": {},
   "outputs": [
    {
     "name": "stdout",
     "output_type": "stream",
     "text": [
      "    Unnamed: 0  trades  Total return  Average Gain  Average Loss        勝率  \\\n",
      "0         ATVI       6         15.98          4.30         -6.00  0.833333   \n",
      "1         ADBE       4         14.49         11.68         -4.06  0.500000   \n",
      "2          AMD       6         11.40         16.94         -4.67  0.333333   \n",
      "3         ALXN       4        -17.27          0.00         -4.60  0.000000   \n",
      "4         ALGN       7         30.29         33.37         -5.13  0.285714   \n",
      "..         ...     ...           ...           ...           ...       ...   \n",
      "100        WBA       4         -4.67          7.89         -4.00  0.250000   \n",
      "101       WDAY       6        -16.11          5.00         -4.36  0.166667   \n",
      "102        XEL       3          3.40         10.00         -3.00  0.333333   \n",
      "103       XLNX       4         -3.46          6.66         -7.85  0.500000   \n",
      "104         ZM       2         41.73         42.94         -0.85  0.500000   \n",
      "\n",
      "     Average gain and profit  average holding period  \n",
      "0                   2.579993               44.750000  \n",
      "1                   3.811801               88.500000  \n",
      "2                   2.534773               28.000000  \n",
      "3                  -4.597563               37.500000  \n",
      "4                   5.872721               42.400000  \n",
      "..                       ...                     ...  \n",
      "100                -1.028058               21.750000  \n",
      "101                -2.800645               25.000000  \n",
      "102                 1.333333              130.333333  \n",
      "103                -0.595970               48.000000  \n",
      "104                21.044822               48.000000  \n",
      "\n",
      "[105 rows x 8 columns]\n",
      "|trade average| |4.761904761904762|\n",
      "|total return average| |12.068380952380949|\n",
      "|gain average| |14.37257142857143|\n",
      "|loss average| |-4.277619047619048|\n",
      "|Batting ratio average| |0.3947505668934241|\n",
      "|Average gain and profit| |3.683429522042527|\n",
      "|average_holding_period| |65.27214285714287|\n",
      "|Time efficiency| |0.056431876767156594|\n"
     ]
    }
   ],
   "source": [
    "import pandas as pd\n",
    "\n",
    "df = pd.read_csv('./volatility_result.csv')\n",
    "\n",
    "print(df)\n",
    "\n",
    "trades_ave = df['trades'].mean()\n",
    "total_return_ave = df['Total return'].mean()\n",
    "average_gain_ave = df['Average Gain'].mean()\n",
    "average_loss_ave = df['Average Loss'].mean()\n",
    "average_batting_ratio = df['勝率'].mean()\n",
    "ave_total = df['Average gain and profit'].mean()\n",
    "ave_holding = df['average holding period'].mean()\n",
    "\n",
    "print('|trade average| |{}|'.format(trades_ave))\n",
    "print('|total return average| |{}|'.format(total_return_ave))\n",
    "print('|gain average| |{}|'.format(average_gain_ave))\n",
    "print('|loss average| |{}|'.format(average_loss_ave))\n",
    "print('|Batting ratio average| |{}|'.format(average_batting_ratio))\n",
    "print('|Average gain and profit| |{}|'.format(ave_total))\n",
    "print('|average_holding_period| |{}|'.format(ave_holding))\n",
    "print('|Time efficiency| |{}|'.format(ave_total/ave_holding))\n",
    "\n",
    "\n",
    "#['ATVI', 'AMD', 'ALXN', 'ALGN', 'GOOGL', 'GOOG', 'AMZN', 'AEP', 'AMGN', 'ADI'\n",
    "#         , 'ANSYS', 'ANSS', 'AAPL', 'AMAT', 'ASML', 'TEAM', 'ADSK', 'ADP', 'BIDU', 'BIIB', 'BKNG'\n",
    "#         , 'AVGO', 'CDNS', 'CDW', 'CDW', 'CERN', 'CHTR', 'CHKP', 'CTAS', 'CSCO', 'CTSH', 'CMCSA'\n",
    "#         , 'CPRT', 'COST', 'CSX', 'DXCM', 'DOCU', 'DLTR', 'EBAY', 'EA', 'EXC', 'FB', 'FAST'\n",
    "#         , 'FISV', 'FOXA', 'FOX', 'GILD', 'IDXX', 'ILMN', 'INCY', 'INTC', 'INTU', 'ISRG', 'JD'\n",
    "#         , 'KDP', 'KLAC', 'KHC', 'LRCX', 'LULU', 'MAR', 'MRVL', 'MTCH', 'MXIM', 'MELI', 'MCHP', 'MU'\n",
    "#         , 'MSFT', 'MRNA', 'MDLZ', 'MNST', 'NTES', 'NFLX', 'NVDA', 'NXPI', 'ORLY', 'OKTA', 'PCAR', 'PAYX'\n",
    "#         , 'PYPL', 'PTON', 'PEP', 'PDD', 'QUALCOMM', 'QCOM', 'REGN', 'ROST', 'SGEN', 'SIRI', 'SWKS', 'SPLK'\n",
    "#         , 'SBUX', 'SNPS', 'TMUS', 'TSLA', 'TXN', 'TCOM', 'VRSN', 'VRSK', 'VRTX', 'WBA', 'WDAY', 'XEL', 'XLNX'\n",
    "#         , 'ZM']"
   ]
  }
 ],
 "metadata": {
  "kernelspec": {
   "display_name": "Python 3",
   "language": "python",
   "name": "python3"
  },
  "language_info": {
   "codemirror_mode": {
    "name": "ipython",
    "version": 3
   },
   "file_extension": ".py",
   "mimetype": "text/x-python",
   "name": "python",
   "nbconvert_exporter": "python",
   "pygments_lexer": "ipython3",
   "version": "3.8.5"
  }
 },
 "nbformat": 4,
 "nbformat_minor": 4
}
