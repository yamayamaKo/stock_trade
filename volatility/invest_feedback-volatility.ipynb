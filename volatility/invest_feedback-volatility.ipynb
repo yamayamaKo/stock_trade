{
 "cells": [
  {
   "cell_type": "code",
   "execution_count": 2,
   "metadata": {},
   "outputs": [
    {
     "name": "stdout",
     "output_type": "stream",
     "text": [
      "  Unnamed: 0  trades  Total return  Average Gain  Average Loss   勝率  \\\n",
      "0     6976.T       4         83.39         46.17         -6.00  0.5   \n",
      "1     4477.T       1         -6.28          0.00         -6.28  0.0   \n",
      "2     6036.T       6        104.24         45.96         -6.61  0.5   \n",
      "\n",
      "   Average gain and profit  average holding period  \n",
      "0                20.085531               45.333333  \n",
      "1                -6.278481               45.333333  \n",
      "2                19.673998               49.750000  \n",
      "|trade average| |3.6666666666666665|\n",
      "|total return average| |60.449999999999996|\n",
      "|gain average| |30.709999999999997|\n",
      "|loss average| |-6.296666666666667|\n",
      "|Batting ratio average| |0.3333333333333333|\n",
      "|Average gain and profit| |11.160349382921884|\n",
      "|average_holding_period| |46.805555555555564|\n",
      "|Time efficiency| |0.23844069898230727|\n"
     ]
    }
   ],
   "source": [
    "import pandas as pd\n",
    "\n",
    "df = pd.read_csv('./volatility_result.csv')\n",
    "\n",
    "print(df)\n",
    "\n",
    "trades_ave = df['trades'].mean()\n",
    "total_return_ave = df['Total return'].mean()\n",
    "average_gain_ave = df['Average Gain'].mean()\n",
    "average_loss_ave = df['Average Loss'].mean()\n",
    "average_batting_ratio = df['勝率'].mean()\n",
    "ave_total = df['Average gain and profit'].mean()\n",
    "ave_holding = df['average holding period'].mean()\n",
    "\n",
    "print('|trade average| |{}|'.format(trades_ave))\n",
    "print('|total return average| |{}|'.format(total_return_ave))\n",
    "print('|gain average| |{}|'.format(average_gain_ave))\n",
    "print('|loss average| |{}|'.format(average_loss_ave))\n",
    "print('|Batting ratio average| |{}|'.format(average_batting_ratio))\n",
    "print('|Average gain and profit| |{}|'.format(ave_total))\n",
    "print('|average_holding_period| |{}|'.format(ave_holding))\n",
    "print('|Time efficiency| |{}|'.format(ave_total/ave_holding))\n",
    "\n",
    "\n",
    "#['ATVI', 'AMD', 'ALXN', 'ALGN', 'GOOGL', 'GOOG', 'AMZN', 'AEP', 'AMGN', 'ADI'\n",
    "#         , 'ANSYS', 'ANSS', 'AAPL', 'AMAT', 'ASML', 'TEAM', 'ADSK', 'ADP', 'BIDU', 'BIIB', 'BKNG'\n",
    "#         , 'AVGO', 'CDNS', 'CDW', 'CDW', 'CERN', 'CHTR', 'CHKP', 'CTAS', 'CSCO', 'CTSH', 'CMCSA'\n",
    "#         , 'CPRT', 'COST', 'CSX', 'DXCM', 'DOCU', 'DLTR', 'EBAY', 'EA', 'EXC', 'FB', 'FAST'\n",
    "#         , 'FISV', 'FOXA', 'FOX', 'GILD', 'IDXX', 'ILMN', 'INCY', 'INTC', 'INTU', 'ISRG', 'JD'\n",
    "#         , 'KDP', 'KLAC', 'KHC', 'LRCX', 'LULU', 'MAR', 'MRVL', 'MTCH', 'MXIM', 'MELI', 'MCHP', 'MU'\n",
    "#         , 'MSFT', 'MRNA', 'MDLZ', 'MNST', 'NTES', 'NFLX', 'NVDA', 'NXPI', 'ORLY', 'OKTA', 'PCAR', 'PAYX'\n",
    "#         , 'PYPL', 'PTON', 'PEP', 'PDD', 'QUALCOMM', 'QCOM', 'REGN', 'ROST', 'SGEN', 'SIRI', 'SWKS', 'SPLK'\n",
    "#         , 'SBUX', 'SNPS', 'TMUS', 'TSLA', 'TXN', 'TCOM', 'VRSN', 'VRSK', 'VRTX', 'WBA', 'WDAY', 'XEL', 'XLNX'\n",
    "#         , 'ZM']"
   ]
  }
 ],
 "metadata": {
  "kernelspec": {
   "display_name": "Python 3",
   "language": "python",
   "name": "python3"
  },
  "language_info": {
   "codemirror_mode": {
    "name": "ipython",
    "version": 3
   },
   "file_extension": ".py",
   "mimetype": "text/x-python",
   "name": "python",
   "nbconvert_exporter": "python",
   "pygments_lexer": "ipython3",
   "version": "3.8.5"
  }
 },
 "nbformat": 4,
 "nbformat_minor": 4
}
